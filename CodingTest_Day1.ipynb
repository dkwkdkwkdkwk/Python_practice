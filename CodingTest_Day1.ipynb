{
  "nbformat": 4,
  "nbformat_minor": 0,
  "metadata": {
    "colab": {
      "provenance": [],
      "authorship_tag": "ABX9TyNZn7mQpIEZPgOQcBD3fnAC",
      "include_colab_link": true
    },
    "kernelspec": {
      "name": "python3",
      "display_name": "Python 3"
    },
    "language_info": {
      "name": "python"
    }
  },
  "cells": [
    {
      "cell_type": "markdown",
      "metadata": {
        "id": "view-in-github",
        "colab_type": "text"
      },
      "source": [
        "<a href=\"https://colab.research.google.com/github/dkwkdkwkdkwk/Python_practice/blob/main/CodingTest_Day1.ipynb\" target=\"_parent\"><img src=\"https://colab.research.google.com/assets/colab-badge.svg\" alt=\"Open In Colab\"/></a>"
      ]
    },
    {
      "cell_type": "markdown",
      "source": [
        "MAP 과 ZIP"
      ],
      "metadata": {
        "id": "5H6RpyLuJgpV"
      }
    },
    {
      "cell_type": "code",
      "execution_count": null,
      "metadata": {
        "colab": {
          "base_uri": "https://localhost:8080/"
        },
        "id": "VhOgNMUlJFJF",
        "outputId": "3ca01193-e74b-4f10-8eb7-f67c66208346"
      },
      "outputs": [
        {
          "output_type": "execute_result",
          "data": {
            "text/plain": [
              "[True,\n",
              " False,\n",
              " True,\n",
              " False,\n",
              " True,\n",
              " False,\n",
              " True,\n",
              " False,\n",
              " True,\n",
              " False,\n",
              " True,\n",
              " False,\n",
              " True,\n",
              " False,\n",
              " True,\n",
              " False,\n",
              " True,\n",
              " False,\n",
              " True,\n",
              " False]"
            ]
          },
          "metadata": {},
          "execution_count": 7
        }
      ],
      "source": [
        "list(map(lambda x: x % 2 == 0, range(20)))"
      ]
    },
    {
      "cell_type": "code",
      "source": [
        "list(map(lambda x: x**2, range(20)))"
      ],
      "metadata": {
        "colab": {
          "base_uri": "https://localhost:8080/"
        },
        "id": "ae7iqmx-Jd5y",
        "outputId": "3829b341-c6d9-46a3-94c5-fb553e7a72cc"
      },
      "execution_count": null,
      "outputs": [
        {
          "output_type": "execute_result",
          "data": {
            "text/plain": [
              "[0,\n",
              " 1,\n",
              " 4,\n",
              " 9,\n",
              " 16,\n",
              " 25,\n",
              " 36,\n",
              " 49,\n",
              " 64,\n",
              " 81,\n",
              " 100,\n",
              " 121,\n",
              " 144,\n",
              " 169,\n",
              " 196,\n",
              " 225,\n",
              " 256,\n",
              " 289,\n",
              " 324,\n",
              " 361]"
            ]
          },
          "metadata": {},
          "execution_count": 8
        }
      ]
    },
    {
      "cell_type": "code",
      "source": [
        "list(zip(['a','b','c','d'],[1,2,3,4],[10,20,30,40],'ABCD'))"
      ],
      "metadata": {
        "colab": {
          "base_uri": "https://localhost:8080/"
        },
        "id": "K63lzdBwJVp-",
        "outputId": "0abb1642-92a6-4796-c7b7-a919ac68799c"
      },
      "execution_count": null,
      "outputs": [
        {
          "output_type": "execute_result",
          "data": {
            "text/plain": [
              "[('a', 1, 10, 'A'), ('b', 2, 20, 'B'), ('c', 3, 30, 'C'), ('d', 4, 40, 'D')]"
            ]
          },
          "metadata": {},
          "execution_count": 10
        }
      ]
    },
    {
      "cell_type": "markdown",
      "source": [
        "sort 와 sorted"
      ],
      "metadata": {
        "id": "4fC78Qn4KWTL"
      }
    },
    {
      "cell_type": "code",
      "source": [
        "#reversed() -> 역정렬\n",
        "l = [10,5,4,6,8,9]\n",
        "l.sort()\n",
        "print(l)"
      ],
      "metadata": {
        "colab": {
          "base_uri": "https://localhost:8080/"
        },
        "id": "N4RflK_MKNzU",
        "outputId": "9312fa40-d0d5-4ae0-eb78-08df66dd78d0"
      },
      "execution_count": null,
      "outputs": [
        {
          "output_type": "stream",
          "name": "stdout",
          "text": [
            "[4, 5, 6, 8, 9, 10]\n"
          ]
        }
      ]
    },
    {
      "cell_type": "code",
      "source": [
        "#sorted(key) -> sorted는 key 값을 넣을 수 있음\n",
        "\n",
        "testCaseOne = ['abc', 'def','hello world', 'hello', 'python']\n",
        "testCaseTwo = 'Life is too short, you need python'.split()\n",
        "testCaseThree = list(zip('anvfe', [1,2,5,4,3]))"
      ],
      "metadata": {
        "id": "5i3UPZj-Kx0s"
      },
      "execution_count": null,
      "outputs": []
    },
    {
      "cell_type": "code",
      "source": [
        "print(sorted(testCaseOne, key=len))\n",
        "print(sorted(testCaseOne, key=len, reverse = True))\n",
        "print(sorted(testCaseTwo, key=str.lower))# 첫글자 알파벳 순으로 정렬\n",
        "print(sorted(testCaseThree, key=lambda x:x[1])) # 숫자순서를 기준으로 정렬\n",
        "print(sorted(testCaseThree, key=lambda x:x[0])) # 알파벳 순서를 기준을 정"
      ],
      "metadata": {
        "colab": {
          "base_uri": "https://localhost:8080/"
        },
        "id": "so11Cjn1LKux",
        "outputId": "1b72a724-fe48-42aa-d506-bdd53403cd8f"
      },
      "execution_count": null,
      "outputs": [
        {
          "output_type": "stream",
          "name": "stdout",
          "text": [
            "['abc', 'def', 'hello', 'python', 'hello world']\n",
            "['hello world', 'python', 'hello', 'abc', 'def']\n",
            "['is', 'Life', 'need', 'python', 'short,', 'too', 'you']\n",
            "[('a', 1), ('n', 2), ('e', 3), ('f', 4), ('v', 5)]\n",
            "[('a', 1), ('e', 3), ('f', 4), ('n', 2), ('v', 5)]\n"
          ]
        }
      ]
    },
    {
      "cell_type": "markdown",
      "source": [
        "in"
      ],
      "metadata": {
        "id": "pcDNbzN7MvJt"
      }
    },
    {
      "cell_type": "code",
      "source": [
        "5 not in [1,2,3,4,5]"
      ],
      "metadata": {
        "colab": {
          "base_uri": "https://localhost:8080/"
        },
        "id": "H2h1wCxiM0aZ",
        "outputId": "0b3daa92-8ce4-41d4-f566-1d8966efee3d"
      },
      "execution_count": null,
      "outputs": [
        {
          "output_type": "execute_result",
          "data": {
            "text/plain": [
              "False"
            ]
          },
          "metadata": {},
          "execution_count": 27
        }
      ]
    },
    {
      "cell_type": "code",
      "source": [
        "'''\n",
        "append() -> 하나의 요소만 추가\n",
        "clear() -> 모든 요소 삭제\n",
        "copy() -> 복사\n",
        "count() -> 갯수\n",
        "extend() -> 요소를 많이 추가할 때\n",
        "index() -> 어떤 요소를 찾을 때\n",
        "insert() -> 해당자리에 요소를 넣을 때\n",
        "pop() -> 맨 마지막 요소를 빼낼 때\n",
        "remove() -> 해당 요소를 빼낼 때\n",
        "reverse()-> 역순으로 정렬\n",
        "sort() -> 정렬\n",
        "'''\n"
      ],
      "metadata": {
        "colab": {
          "base_uri": "https://localhost:8080/"
        },
        "id": "AynGhZgNM6FN",
        "outputId": "8c2455fd-67d0-43e2-dc02-3ed349e3e505"
      },
      "execution_count": null,
      "outputs": [
        {
          "output_type": "stream",
          "name": "stdout",
          "text": [
            "[1, 2, 3, 4, 5]\n"
          ]
        }
      ]
    },
    {
      "cell_type": "markdown",
      "source": [
        "copy()"
      ],
      "metadata": {
        "id": "LXl8IiJoOZU9"
      }
    },
    {
      "cell_type": "code",
      "source": [
        "#copy  -> 여기서 copy를 넣지않으면 [1000, 2,3,4,5]로 출력됨\n",
        "def listChange(x):\n",
        "  x[0] = 1000\n",
        "\n",
        "l = [1,2,3,4,5]\n",
        "listChange(l.copy())\n",
        "print(l)"
      ],
      "metadata": {
        "colab": {
          "base_uri": "https://localhost:8080/"
        },
        "id": "6sH2BR7pObeZ",
        "outputId": "b1889e48-5c75-4adf-ac08-30b65c6649b7"
      },
      "execution_count": null,
      "outputs": [
        {
          "output_type": "stream",
          "name": "stdout",
          "text": [
            "[1, 2, 3, 4, 5]\n"
          ]
        }
      ]
    },
    {
      "cell_type": "markdown",
      "source": [
        "pop(), append()"
      ],
      "metadata": {
        "id": "LOesUCY-Oetv"
      }
    },
    {
      "cell_type": "code",
      "source": [
        "#큐 구조  -> 가장 먼조 들어온 데이터가 가장 먼저 나옴\n",
        "l=[]\n",
        "\n",
        "l.append(10)\n",
        "l.append(20)\n",
        "l.append(30)\n",
        "l.pop(0)"
      ],
      "metadata": {
        "colab": {
          "base_uri": "https://localhost:8080/"
        },
        "id": "IxPW7RAJOeUv",
        "outputId": "658439a4-604b-40b6-bcce-41734704ed92"
      },
      "execution_count": null,
      "outputs": [
        {
          "output_type": "execute_result",
          "data": {
            "text/plain": [
              "10"
            ]
          },
          "metadata": {},
          "execution_count": 38
        }
      ]
    },
    {
      "cell_type": "code",
      "source": [
        "#스택 구조 -> 가장 늦게 들어온 데이터 가장 먼저 나감\n",
        "l=[]\n",
        "\n",
        "l.append(10)\n",
        "l.append(20)\n",
        "l.append(30)\n",
        "l.pop()"
      ],
      "metadata": {
        "colab": {
          "base_uri": "https://localhost:8080/"
        },
        "id": "XJgDNDuTO86-",
        "outputId": "ef0075f9-36cc-483b-8cbc-0d8018c9c896"
      },
      "execution_count": null,
      "outputs": [
        {
          "output_type": "execute_result",
          "data": {
            "text/plain": [
              "30"
            ]
          },
          "metadata": {},
          "execution_count": 39
        }
      ]
    },
    {
      "cell_type": "markdown",
      "source": [
        "튜플"
      ],
      "metadata": {
        "id": "xBUjRFh7PplA"
      }
    },
    {
      "cell_type": "code",
      "source": [
        "t = (1,2,3)\n",
        "dir(t)"
      ],
      "metadata": {
        "colab": {
          "base_uri": "https://localhost:8080/"
        },
        "id": "OY6_5f_yPpaH",
        "outputId": "2689f160-c6ff-4e38-af03-faa4e36aa3ca"
      },
      "execution_count": null,
      "outputs": [
        {
          "output_type": "execute_result",
          "data": {
            "text/plain": [
              "['__add__',\n",
              " '__class__',\n",
              " '__class_getitem__',\n",
              " '__contains__',\n",
              " '__delattr__',\n",
              " '__dir__',\n",
              " '__doc__',\n",
              " '__eq__',\n",
              " '__format__',\n",
              " '__ge__',\n",
              " '__getattribute__',\n",
              " '__getitem__',\n",
              " '__getnewargs__',\n",
              " '__getstate__',\n",
              " '__gt__',\n",
              " '__hash__',\n",
              " '__init__',\n",
              " '__init_subclass__',\n",
              " '__iter__',\n",
              " '__le__',\n",
              " '__len__',\n",
              " '__lt__',\n",
              " '__mul__',\n",
              " '__ne__',\n",
              " '__new__',\n",
              " '__reduce__',\n",
              " '__reduce_ex__',\n",
              " '__repr__',\n",
              " '__rmul__',\n",
              " '__setattr__',\n",
              " '__sizeof__',\n",
              " '__str__',\n",
              " '__subclasshook__',\n",
              " 'count',\n",
              " 'index']"
            ]
          },
          "metadata": {},
          "execution_count": 40
        }
      ]
    },
    {
      "cell_type": "markdown",
      "source": [
        "딕셔너리"
      ],
      "metadata": {
        "id": "yaWugnIKP4jh"
      }
    },
    {
      "cell_type": "code",
      "source": [
        "d = {'one':'하나','two':'둘'}\n",
        "#   dir(d)\n",
        "#  'clear',\n",
        "#  'copy',\n",
        "#  'fromkeys',\n",
        "#  'get',\n",
        "#  'items',\n",
        "#  'keys',\n",
        "#  'pop',\n",
        "#  'popitem',\n",
        "#  'setdefault',\n",
        "#  'update',\n",
        "#  'values\n",
        "print(d.keys())\n",
        "print(d.values())\n",
        "print(d.items())"
      ],
      "metadata": {
        "colab": {
          "base_uri": "https://localhost:8080/"
        },
        "id": "qPR5KQ-jPon2",
        "outputId": "f66d976a-7845-4902-95e1-caee621dd436"
      },
      "execution_count": null,
      "outputs": [
        {
          "output_type": "stream",
          "name": "stdout",
          "text": [
            "dict_keys(['one', 'two'])\n",
            "dict_values(['하나', '둘'])\n",
            "dict_items([('one', '하나'), ('two', '둘')])\n"
          ]
        }
      ]
    },
    {
      "cell_type": "code",
      "source": [
        "del d['one']\n",
        "d"
      ],
      "metadata": {
        "colab": {
          "base_uri": "https://localhost:8080/"
        },
        "id": "OBqs3iOmQzbM",
        "outputId": "d75e598b-817a-4da7-cd7b-55d28d3ba68e"
      },
      "execution_count": null,
      "outputs": [
        {
          "output_type": "execute_result",
          "data": {
            "text/plain": [
              "{'two': '둘'}"
            ]
          },
          "metadata": {},
          "execution_count": 44
        }
      ]
    },
    {
      "cell_type": "code",
      "source": [
        "d['one'] = '하나'\n",
        "d"
      ],
      "metadata": {
        "colab": {
          "base_uri": "https://localhost:8080/"
        },
        "id": "0Z1eeZscQ2_a",
        "outputId": "b009f946-8ff2-4c23-c32f-d13240abf07e"
      },
      "execution_count": null,
      "outputs": [
        {
          "output_type": "execute_result",
          "data": {
            "text/plain": [
              "{'two': '둘', 'one': '하나'}"
            ]
          },
          "metadata": {},
          "execution_count": 45
        }
      ]
    },
    {
      "cell_type": "markdown",
      "source": [
        "Set(집합) -> 중복제거 용도로 많이 사용"
      ],
      "metadata": {
        "id": "SmOxfwvzRD0t"
      }
    },
    {
      "cell_type": "code",
      "source": [
        "s = set('11122345666')\n",
        "s"
      ],
      "metadata": {
        "colab": {
          "base_uri": "https://localhost:8080/"
        },
        "id": "Tuh1GhYwQ9CX",
        "outputId": "31bcd0d8-085e-4968-8110-167d5cd53ee7"
      },
      "execution_count": null,
      "outputs": [
        {
          "output_type": "execute_result",
          "data": {
            "text/plain": [
              "{'1', '2', '3', '4', '5', '6'}"
            ]
          },
          "metadata": {},
          "execution_count": 54
        }
      ]
    },
    {
      "cell_type": "code",
      "source": [
        "# dir(s)\n",
        "#  'add',\n",
        "#  'clear',\n",
        "#  'copy',\n",
        "#  'difference', : 차집합 -> 사용법 : 집합하나.difference(집합) 집합하나에서 집합둘 차집\n",
        "#  'difference_update',\n",
        "#  'discard',\n",
        "#  'intersection',\n",
        "#  'intersection_update',\n",
        "#  'isdisjoint',\n",
        "#  'issubset',\n",
        "#  'issuperset',\n",
        "#  'pop',\n",
        "#  'remove',\n",
        "#  'symmetric_difference',\n",
        "#  'symmetric_difference_update',\n",
        "#  'union', -> 합집합\n",
        "#  'update' -> 한꺼번에 데이터 많이 추가\n",
        "\n",
        "s.add(7)\n",
        "s\n",
        "s.discard(7)\n",
        "s"
      ],
      "metadata": {
        "colab": {
          "base_uri": "https://localhost:8080/"
        },
        "id": "U9dDUKopRI1r",
        "outputId": "d4fa383a-eafb-4c8b-a829-1c8c619a9ab3"
      },
      "execution_count": null,
      "outputs": [
        {
          "output_type": "execute_result",
          "data": {
            "text/plain": [
              "{'1', '2', '3', '4', '5', '6'}"
            ]
          },
          "metadata": {},
          "execution_count": 60
        }
      ]
    },
    {
      "cell_type": "code",
      "source": [
        "'1' in s"
      ],
      "metadata": {
        "colab": {
          "base_uri": "https://localhost:8080/"
        },
        "id": "crCdgDYsSEkk",
        "outputId": "89ddd65d-c69c-4aec-8dea-0697b5a7e4cf"
      },
      "execution_count": null,
      "outputs": [
        {
          "output_type": "execute_result",
          "data": {
            "text/plain": [
              "True"
            ]
          },
          "metadata": {},
          "execution_count": 61
        }
      ]
    },
    {
      "cell_type": "code",
      "source": [
        "판콜에이 = {'A','B','C'}\n",
        "타이레놀 = {'A','B','D'}\n",
        "\n",
        "print(판콜에이.difference(타이레놀)) #차집합\n",
        "print(판콜에이.intersection(타이레놀)) #교집합\n",
        "print(len(판콜에이.intersection(타이레놀)))\n",
        "print(판콜에이.union(타이레놀)) # 합집"
      ],
      "metadata": {
        "colab": {
          "base_uri": "https://localhost:8080/"
        },
        "id": "ELR67oFeSNpC",
        "outputId": "fd66d1c3-c4c2-46bf-f912-23dcd491f8d8"
      },
      "execution_count": null,
      "outputs": [
        {
          "output_type": "stream",
          "name": "stdout",
          "text": [
            "{'C'}\n",
            "{'A', 'B'}\n",
            "2\n",
            "{'A', 'C', 'D', 'B'}\n"
          ]
        }
      ]
    },
    {
      "cell_type": "code",
      "source": [],
      "metadata": {
        "id": "XpZmPSx5TVcd"
      },
      "execution_count": null,
      "outputs": []
    },
    {
      "cell_type": "markdown",
      "source": [
        "**예제1**\n",
        "\n",
        "단톡방에 x마리의 동물이 대화를 하고 있습니다.\n",
        "각각의 동물들이 톡을 전송할 때마다 서버에는 아래와 같이 저장됩니다.\n",
        "\n",
        "serverData = '개리 라이캣 개리 개리 라이캣 자바독 자바독 파이 썬 '\n",
        "\n",
        "1. 단톡방에는 모두 몇 마리의 동물이 있을까요?톡은 무조건 1회 이상 전송합니다.\n",
        "2.단톡방에 동물마다 몇 번의 톡을 올렸을까요?\n",
        "\n"
      ],
      "metadata": {
        "id": "hQx7FQGyS5Du"
      }
    },
    {
      "cell_type": "code",
      "source": [
        "serverData = '개리 라이캣 개리 개리 라이캣 자바독 자바독 파이 썬 '\n",
        "len(set(serverData.split()))\n",
        "\n",
        "d = {}\n",
        "for i in set(serverData.split()):\n",
        "  print(i, serverData.split().count(i))\n",
        "  d[i] = serverData.split().count(i)\n",
        "d"
      ],
      "metadata": {
        "colab": {
          "base_uri": "https://localhost:8080/"
        },
        "id": "gC71y9N9S35F",
        "outputId": "337f5d9e-76a9-4c3d-e94c-4c0b3209bbac"
      },
      "execution_count": null,
      "outputs": [
        {
          "output_type": "stream",
          "name": "stdout",
          "text": [
            "썬 1\n",
            "개리 3\n",
            "라이캣 2\n",
            "자바독 2\n",
            "파이 1\n"
          ]
        },
        {
          "output_type": "execute_result",
          "data": {
            "text/plain": [
              "{'썬': 1, '개리': 3, '라이캣': 2, '자바독': 2, '파이': 1}"
            ]
          },
          "metadata": {},
          "execution_count": 70
        }
      ]
    },
    {
      "cell_type": "markdown",
      "source": [
        "문자열1234566을 숫자로"
      ],
      "metadata": {
        "id": "5xYAg3xJU_dw"
      }
    },
    {
      "cell_type": "code",
      "source": [
        "for i in '1 2 3 4 5 6 7'.split():\n",
        "   print(int(i))\n"
      ],
      "metadata": {
        "colab": {
          "base_uri": "https://localhost:8080/"
        },
        "id": "3IMhsccMT6i_",
        "outputId": "010433f4-d0b5-4fd9-c11b-ec319d413aba"
      },
      "execution_count": null,
      "outputs": [
        {
          "output_type": "stream",
          "name": "stdout",
          "text": [
            "1\n",
            "2\n",
            "3\n",
            "4\n",
            "5\n",
            "6\n",
            "7\n"
          ]
        }
      ]
    },
    {
      "cell_type": "code",
      "source": [
        "[int(i) for i in '1 2 3 4 5 6 7'.split()]"
      ],
      "metadata": {
        "colab": {
          "base_uri": "https://localhost:8080/"
        },
        "id": "aaJp2xIqUnfi",
        "outputId": "b9f428fb-1753-4e23-b07f-b6351ca3f6ab"
      },
      "execution_count": null,
      "outputs": [
        {
          "output_type": "execute_result",
          "data": {
            "text/plain": [
              "[1, 2, 3, 4, 5, 6, 7]"
            ]
          },
          "metadata": {},
          "execution_count": 73
        }
      ]
    },
    {
      "cell_type": "code",
      "source": [
        "list(map(int,'1 2 3 4 5 6 7'.split()))"
      ],
      "metadata": {
        "colab": {
          "base_uri": "https://localhost:8080/"
        },
        "id": "4ADdjdbYUzJo",
        "outputId": "37b969fb-b752-49b3-92dd-6d8bb2e26528"
      },
      "execution_count": null,
      "outputs": [
        {
          "output_type": "execute_result",
          "data": {
            "text/plain": [
              "[1, 2, 3, 4, 5, 6, 7]"
            ]
          },
          "metadata": {},
          "execution_count": 74
        }
      ]
    }
  ]
}