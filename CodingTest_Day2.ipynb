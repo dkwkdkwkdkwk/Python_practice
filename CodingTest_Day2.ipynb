{
  "nbformat": 4,
  "nbformat_minor": 0,
  "metadata": {
    "colab": {
      "provenance": [],
      "authorship_tag": "ABX9TyP42qby8mBCgmvVVZLYkw9s",
      "include_colab_link": true
    },
    "kernelspec": {
      "name": "python3",
      "display_name": "Python 3"
    },
    "language_info": {
      "name": "python"
    }
  },
  "cells": [
    {
      "cell_type": "markdown",
      "metadata": {
        "id": "view-in-github",
        "colab_type": "text"
      },
      "source": [
        "<a href=\"https://colab.research.google.com/github/dkwkdkwkdkwk/Python_practice/blob/main/CodingTest_Day2.ipynb\" target=\"_parent\"><img src=\"https://colab.research.google.com/assets/colab-badge.svg\" alt=\"Open In Colab\"/></a>"
      ]
    },
    {
      "cell_type": "markdown",
      "source": [
        "\n",
        "\n",
        "> **CH5 )  DFS/BFS**\n",
        "\n"
      ],
      "metadata": {
        "id": "UuVfmPnjVCyl"
      }
    },
    {
      "cell_type": "markdown",
      "source": [
        "재귀함수를 이용한 팩토리얼 예제"
      ],
      "metadata": {
        "id": "4-xgBBsVbIRe"
      }
    },
    {
      "cell_type": "code",
      "execution_count": 2,
      "metadata": {
        "colab": {
          "base_uri": "https://localhost:8080/"
        },
        "id": "Esar3UvYUwJG",
        "outputId": "2644bb5e-601a-42ec-a35d-2c80f25754cf"
      },
      "outputs": [
        {
          "output_type": "stream",
          "name": "stdout",
          "text": [
            "120\n"
          ]
        }
      ],
      "source": [
        "def factorial(n):\n",
        "  if n <= 1:\n",
        "    return 1\n",
        "  return n*factorial(n-1)\n",
        "\n",
        "print(factorial(5))"
      ]
    },
    {
      "cell_type": "markdown",
      "source": [
        "\n",
        "\n",
        "**탐색 알고리즘 대표 문제 유형**\n",
        "\n",
        "a) 경로탐색 유형( 최단거리, 시간 )\n",
        "\n",
        "b) 네트워크 유형( 연결 )\n",
        "\n",
        "c) 조합 유형 ( 모든 조합 만들기 )\n"
      ],
      "metadata": {
        "id": "sSx69Udjkljl"
      }
    },
    {
      "cell_type": "markdown",
      "source": [
        "1.DFS ( 깊이 우선 탐색 )\n",
        "\n",
        "→ 재귀함수로 구현하는것이 일반적\n",
        "\n"
      ],
      "metadata": {
        "id": "-oOQs_fPkTuI"
      }
    },
    {
      "cell_type": "markdown",
      "source": [
        "2.BFS( 너비 우선 탐색 )\n",
        "\n",
        "→Queue, linkedlist를 사용하는것이 일반"
      ],
      "metadata": {
        "id": "vuNk6g__lN8T"
      }
    },
    {
      "cell_type": "markdown",
      "source": [
        "실전 문제\n",
        "\n",
        "▶ 음료수 얼려 먹기 ●◐○\n",
        "\n",
        "문제 : N x M 크기의 얼음 틀이 있다. 구멍이 뚫려 있는 부분은 0, 칸막이가 존재하는 부분은 1로 표시된다. 구멍이 뚫려 있는 부분끼리 상하좌우로 붙어 있는 역우 서로 연결되어 있는걸로 간주한다. 이때 얼음 틀의 모양이 주어졌을 때 생성되는 청 아이스크림의 개수를 구하는 프로그램을 작성하시오. 다음의 4 x 5 얼음 틀 예시에서는 아이스크림이 총 3개 생성된다.\n",
        "\n",
        "00110\n",
        "\n",
        "00011\n",
        "\n",
        "11111\n",
        "\n",
        "00000"
      ],
      "metadata": {
        "id": "HlQW9fupl5Gd"
      }
    },
    {
      "cell_type": "code",
      "source": [
        "#DFS 사\n",
        "\n",
        "# 입력 크기\n",
        "n, m = 15, 14\n",
        "\n",
        "# 얼음 틀 입력 받기 (직접 문자열로 초기화)\n",
        "ice_map_raw = [\n",
        "    \"00000111100000\",\n",
        "    \"11111101111110\",\n",
        "    \"11011101101110\",\n",
        "    \"11011101100000\",\n",
        "    \"11011111111111\",\n",
        "    \"11011111111100\",\n",
        "    \"11000000011111\",\n",
        "    \"01111111111111\",\n",
        "    \"00000000011111\",\n",
        "    \"01111111111000\",\n",
        "    \"00011111111000\",\n",
        "    \"00000001111000\",\n",
        "    \"11111111110011\",\n",
        "    \"11100011111111\",\n",
        "    \"11100011111111\"\n",
        "]\n",
        "\n",
        "# 문자열을 숫자로 변환\n",
        "graph = [list(map(int, list(row))) for row in ice_map_raw]\n",
        "\n",
        "# DFS 함수 정의\n",
        "def dfs(x, y):\n",
        "    if x < 0 or x >= n or y < 0 or y >= m:\n",
        "        return False\n",
        "\n",
        "    if graph[x][y] == 0:\n",
        "        graph[x][y] = 1  # 방문 처리\n",
        "        dfs(x-1, y)\n",
        "        dfs(x+1, y)\n",
        "        dfs(x, y-1)\n",
        "        dfs(x, y+1)\n",
        "        return True\n",
        "    return False\n",
        "\n",
        "# 결과 계산\n",
        "result = 0\n",
        "for i in range(n):\n",
        "    for j in range(m):\n",
        "        if dfs(i, j):\n",
        "            result += 1\n",
        "\n",
        "print(\"아이스크림 개수:\", result)\n"
      ],
      "metadata": {
        "colab": {
          "base_uri": "https://localhost:8080/"
        },
        "id": "IiQDDK8nkS18",
        "outputId": "59bac7a6-f773-45a9-a894-ba94ded0fd17"
      },
      "execution_count": 7,
      "outputs": [
        {
          "output_type": "stream",
          "name": "stdout",
          "text": [
            "아이스크림 개수: 8\n"
          ]
        }
      ]
    },
    {
      "cell_type": "markdown",
      "source": [
        "실전 문제\n",
        "\n",
        "▶미로 탈출 ●◐○\n",
        "\n",
        "문제 : 동빈이는 N x M 크기의 직사각형 형태의 미로에 갇혀 있다. 미로에는 여러 마리의 괴물이 있어 이를 피해 탈출해야 한다. 동빈이의 위치는 (1,1)이고 미로의 출구는 (N,M)의 위치에 존재하며 한 번에 한 칸씩 이동할 수 있다. 이때 괴물이 있는 부분은 0으로, 괴물이 없는 부분은 1로 표시되어 있다. 이때 동빈이가 탈출하기 위해 움직여야 하는 최소 칸의 개수를 구하시오. 칸을 셀 때는 시작 칸과 마지막 칸을 모두 포함해서 계산한다.\n",
        "\n"
      ],
      "metadata": {
        "id": "qrLtDYAIu1zO"
      }
    },
    {
      "cell_type": "code",
      "source": [
        "from collections import deque\n",
        "\n",
        "# 입력 받기\n",
        "n, m = map(int, input().split())\n",
        "graph = []\n",
        "for i in range(n):\n",
        "    graph.append(list(map(int, input())))\n",
        "\n",
        "# 이동 방향 (상, 하, 좌, 우)\n",
        "dx = [-1, 1, 0, 0]\n",
        "dy = [0, 0, -1, 1]\n",
        "\n",
        "# BFS 함수 정의\n",
        "def bfs(x, y):\n",
        "    queue = deque()\n",
        "    queue.append((x, y))\n",
        "\n",
        "    while queue:\n",
        "        x, y = queue.popleft()\n",
        "\n",
        "        # 현재 위치에서 4방향 확인\n",
        "        for i in range(4):\n",
        "            nx = x + dx[i]\n",
        "            ny = y + dy[i]\n",
        "\n",
        "            # 범위 밖이면 무시\n",
        "            if nx < 0 or ny < 0 or nx >= n or ny >= m:\n",
        "                continue\n",
        "\n",
        "            # 괴물(벽)이면 무시\n",
        "            if graph[nx][ny] == 0:\n",
        "                continue\n",
        "\n",
        "            # 처음 방문하는 길이면 거리 기록\n",
        "            if graph[nx][ny] == 1:\n",
        "                graph[nx][ny] = graph[x][y] + 1\n",
        "                queue.append((nx, ny))\n",
        "\n",
        "    return graph[n - 1][m - 1]\n",
        "\n",
        "# 결과 출력\n",
        "print(bfs(0, 0))"
      ],
      "metadata": {
        "colab": {
          "base_uri": "https://localhost:8080/"
        },
        "id": "ORGmVg4imDep",
        "outputId": "055eaedf-9957-4b3a-88c8-6d588952d3c5"
      },
      "execution_count": 10,
      "outputs": [
        {
          "output_type": "stream",
          "name": "stdout",
          "text": [
            "5 6\n",
            "101010\n",
            "111111\n",
            "000001\n",
            "111111\n",
            "111111\n",
            "10\n"
          ]
        },
        {
          "output_type": "execute_result",
          "data": {
            "text/plain": [
              "1"
            ]
          },
          "metadata": {},
          "execution_count": 10
        }
      ]
    },
    {
      "cell_type": "markdown",
      "source": [
        "< 문제를 “자료구조 관점”으로 분해 >\n",
        "\n",
        "→ 맵이 나온다 → 2차원 리스트 (행렬)\n",
        "\n",
        "→ 0, 1로 구성된다 → 벽 / 길 구분\n",
        "\n",
        "→ 한 칸씩 이동한다 → 그래프 탐색 문제\n",
        "\n",
        "→ 최단 거리 구하라는 말이 있다 → BFS (너비 우선 탐색)!\n",
        "\n",
        "▶ \"이건 BFS로 풀면 되겠네\" 라는 감을 갖는 게 핵심!"
      ],
      "metadata": {
        "id": "9ll11dnyx3MO"
      }
    }
  ]
}