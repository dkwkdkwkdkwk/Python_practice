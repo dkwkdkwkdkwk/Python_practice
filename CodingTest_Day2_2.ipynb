{
  "nbformat": 4,
  "nbformat_minor": 0,
  "metadata": {
    "colab": {
      "provenance": [],
      "authorship_tag": "ABX9TyMCJB9rVerqELNxpkwn2epQ",
      "include_colab_link": true
    },
    "kernelspec": {
      "name": "python3",
      "display_name": "Python 3"
    },
    "language_info": {
      "name": "python"
    }
  },
  "cells": [
    {
      "cell_type": "markdown",
      "metadata": {
        "id": "view-in-github",
        "colab_type": "text"
      },
      "source": [
        "<a href=\"https://colab.research.google.com/github/dkwkdkwkdkwk/Python_practice/blob/main/CodingTest_Day2_2.ipynb\" target=\"_parent\"><img src=\"https://colab.research.google.com/assets/colab-badge.svg\" alt=\"Open In Colab\"/></a>"
      ]
    },
    {
      "cell_type": "markdown",
      "source": [
        "Ch6 ) 정렬"
      ],
      "metadata": {
        "id": "WpQzyfQL895C"
      }
    },
    {
      "cell_type": "markdown",
      "source": [
        "선택정렬 : 가장 작은 것을 선택"
      ],
      "metadata": {
        "id": "3xOKCLr49DmG"
      }
    },
    {
      "cell_type": "code",
      "source": [
        "array = [7,5,9,0,3,1,6,2,4,8]\n",
        "\n",
        "for i in range(len(array)):\n",
        "  min_index = i\n",
        "  for j in range(i+1, len(array)):\n",
        "    if array[min_index] > array[j]:\n",
        "      min_index = j\n",
        "  array[i], array[min_index] = array[min_index], array[i]\n",
        "\n",
        "print(array)"
      ],
      "metadata": {
        "colab": {
          "base_uri": "https://localhost:8080/"
        },
        "id": "bH1tI6Eq9R-P",
        "outputId": "7f0469e8-4c3e-4c50-da8b-d302521e93e1"
      },
      "execution_count": 1,
      "outputs": [
        {
          "output_type": "stream",
          "name": "stdout",
          "text": [
            "[0, 1, 2, 3, 4, 5, 6, 7, 8, 9]\n"
          ]
        }
      ]
    },
    {
      "cell_type": "markdown",
      "source": [
        "삽입정렬 : 특정힌 데이터를 적절힌 위치에 삽입한다는 의미"
      ],
      "metadata": {
        "id": "DRbyaIpx-JJy"
      }
    },
    {
      "cell_type": "code",
      "source": [
        "array = [7,5,9,0,3,1,6,2,4,8]\n",
        "\n",
        "for i in range(1, len(array)):\n",
        "  for j in range(i, 0, -1):\n",
        "    if array[j] < array[j-1]:\n",
        "      array[j], array[j-1] = array[j-1], array[j]\n",
        "\n",
        "print(array)"
      ],
      "metadata": {
        "colab": {
          "base_uri": "https://localhost:8080/"
        },
        "id": "_It9p_mj-qoi",
        "outputId": "cb2d61e5-40ab-4fb7-96b8-584bf3b12df6"
      },
      "execution_count": 2,
      "outputs": [
        {
          "output_type": "stream",
          "name": "stdout",
          "text": [
            "[0, 1, 2, 3, 4, 5, 6, 7, 8, 9]\n"
          ]
        }
      ]
    },
    {
      "cell_type": "markdown",
      "source": [
        "< 파이썬의 정렬 라이브러리 >"
      ],
      "metadata": {
        "id": "wJ0Gg6Hs_Onv"
      }
    },
    {
      "cell_type": "code",
      "source": [
        "array = [7,5,9,0,3,1,6,2,4,8]\n",
        "\n",
        "result = sorted(array)\n",
        "print(result)"
      ],
      "metadata": {
        "colab": {
          "base_uri": "https://localhost:8080/"
        },
        "id": "VrLFJ-lH_Rr9",
        "outputId": "16c95e41-b62c-4d5a-831a-98239ab602e3"
      },
      "execution_count": 3,
      "outputs": [
        {
          "output_type": "stream",
          "name": "stdout",
          "text": [
            "[0, 1, 2, 3, 4, 5, 6, 7, 8, 9]\n"
          ]
        }
      ]
    },
    {
      "cell_type": "code",
      "source": [
        "array = [7,5,9,0,3,1,6,2,4,8]\n",
        "\n",
        "array.sort()\n",
        "print(array)"
      ],
      "metadata": {
        "colab": {
          "base_uri": "https://localhost:8080/"
        },
        "id": "pjNP4MuZ_dC_",
        "outputId": "664c8a1d-231d-43ee-be5c-f3890ed1a57d"
      },
      "execution_count": 4,
      "outputs": [
        {
          "output_type": "stream",
          "name": "stdout",
          "text": [
            "[0, 1, 2, 3, 4, 5, 6, 7, 8, 9]\n"
          ]
        }
      ]
    },
    {
      "cell_type": "code",
      "source": [
        "\n",
        "#sorted(key) -> sorted는 key 값을 넣을 수 있음\n",
        "\n",
        "testCaseOne = ['abc', 'def','hello world', 'hello', 'python']\n",
        "testCaseTwo = 'Life is too short, you need python'.split()\n",
        "testCaseThree = list(zip('anvfe', [1,2,5,4,3]))\n",
        "\n",
        "print(sorted(testCaseOne, key=len))\n",
        "print(sorted(testCaseOne, key=len, reverse = True))\n",
        "print(sorted(testCaseTwo, key=str.lower))# 첫글자 알파벳 순으로 정렬\n",
        "print(sorted(testCaseThree, key=lambda x:x[1])) # 숫자순서를 기준으로 정렬\n",
        "print(sorted(testCaseThree, key=lambda x:x[0])) # 알파벳 순서를 기준을 정"
      ],
      "metadata": {
        "colab": {
          "base_uri": "https://localhost:8080/"
        },
        "id": "5HWONty5_2l3",
        "outputId": "48a86860-04d3-43ea-e379-d6c5217dae55"
      },
      "execution_count": 6,
      "outputs": [
        {
          "output_type": "stream",
          "name": "stdout",
          "text": [
            "['abc', 'def', 'hello', 'python', 'hello world']\n",
            "['hello world', 'python', 'hello', 'abc', 'def']\n",
            "['is', 'Life', 'need', 'python', 'short,', 'too', 'you']\n",
            "[('a', 1), ('n', 2), ('e', 3), ('f', 4), ('v', 5)]\n",
            "[('a', 1), ('e', 3), ('f', 4), ('n', 2), ('v', 5)]\n"
          ]
        }
      ]
    },
    {
      "cell_type": "markdown",
      "source": [
        "**실전문제**\n",
        "\n",
        "▶위에서 아래로 ●○○\n",
        "\n",
        "하나의 수열에는 다양한 수가 존재한다. 이러한 수는 크기에 상관없이 나열되어 있습니다. 이 수를 쿤 수부터 작은 수의 순서로 정렬해야 한다. 수열을 내림차순으로 정렬하는 프로그램을 만드시오.\n",
        "\n",
        "**입력 조건**\n",
        "1. 첫째 줄에 수열에 속해 있는 수의 개수 N이 주어진다 ( 1 <= N <= 500 )\n",
        "\n",
        "2. 둘째 줄부터 N+1번째 줄까지 N개의 수가 입력된다. 수의 범위는 1 이상 100,000이하의 자연수이다.\n",
        "\n",
        "**출력조건**\n",
        "\n",
        "입력으로 주어진 수열이 내림차순으로 정렬된 결과를 공백으로 구분하여 출력한다. 동일한 수의 순서는 자유롭게 출력해도 괜찮다."
      ],
      "metadata": {
        "id": "qFpD7EoH_2Hf"
      }
    },
    {
      "cell_type": "code",
      "source": [
        "n = int(input())\n",
        "\n",
        "array = []\n",
        "for i in range(n):\n",
        "  array.append(int(input()))\n",
        "\n",
        "array = sorted(array,reverse=True)\n",
        "\n",
        "for i in array:\n",
        "  print(i,end=' ')"
      ],
      "metadata": {
        "colab": {
          "base_uri": "https://localhost:8080/"
        },
        "id": "62p4VmfuAFvh",
        "outputId": "2deb3680-f714-4a9e-91f5-7e9278f9b38e"
      },
      "execution_count": 10,
      "outputs": [
        {
          "output_type": "stream",
          "name": "stdout",
          "text": [
            "5\n",
            "8\n",
            "6\n",
            "9\n",
            "8\n",
            "7\n",
            "9 8 8 7 6 "
          ]
        }
      ]
    },
    {
      "cell_type": "markdown",
      "source": [
        "**<프로그래머스 정렬 문제>**\n",
        "\n",
        "배열 array의 i번째 숫자부터 j번째 숫자까지 자르고 정렬했을 때, k번째에 있는 수를 구하려 합니다.\n",
        "\n",
        "예를 들어 array가 [1, 5, 2, 6, 3, 7, 4], i = 2, j = 5, k = 3이라면\n",
        "\n",
        "array의 2번째부터 5번째까지 자르면 [5, 2, 6, 3]입니다.\n",
        "1에서 나온 배열을 정렬하면 [2, 3, 5, 6]입니다.\n",
        "2에서 나온 배열의 3번째 숫자는 5입니다.\n",
        "\n",
        "배열 array, [i, j, k]를 원소로 가진 2차원 배열 commands가 매개변수로 주어질 때, commands의 모든 원소에 대해 앞서 설명한 연산을 적용했을 때 나온 결과를 배열에 담아 return 하도록 solution 함수를 작성해주세요.\n",
        "\n",
        "제한사항\n",
        "array의 길이는 1 이상 100 이하입니다.\n",
        "array의 각 원소는 1 이상 100 이하입니다.\n",
        "commands의 길이는 1 이상 50 이하입니다.\n",
        "commands의 각 원소는 길이가 3입니다.\n",
        "입출력 예\n",
        "\n",
        "array : [1, 5, 2, 6, 3, 7, 4]\n",
        "\n",
        "commands :[[2, 5, 3], [4, 4, 1], [1, 7, 3]]\n",
        "\n",
        "return : [5, 6, 3]\n",
        "\n",
        "입출력 예 설명\n",
        "[1, 5, 2, 6, 3, 7, 4]를 2번째부터 5번째까지 자른 후 정렬합니다. [2, 3, 5, 6]의 세 번째 숫자는 5입니다.\n",
        "\n",
        "[1, 5, 2, 6, 3, 7, 4]를 4번째부터 4번째까지 자른 후 정렬합니다. [6]의 첫 번째 숫자는 6입니다.\n",
        "\n",
        "[1, 5, 2, 6, 3, 7, 4]를 1번째부터 7번째까지 자릅니다. [1, 2, 3, 4, 5, 6, 7]의 세 번째 숫자는 3입니다."
      ],
      "metadata": {
        "id": "RWBdSb-EHy4s"
      }
    },
    {
      "cell_type": "code",
      "source": [
        "def solution(array, commands):\n",
        "    answer = []\n",
        "    for command in commands:\n",
        "        i,j,k = command\n",
        "        sliced = sorted(array[i-1:j])\n",
        "        answer.append(sliced[k-1])\n",
        "    return answer"
      ],
      "metadata": {
        "id": "hupvfdF7FCO8"
      },
      "execution_count": 15,
      "outputs": []
    },
    {
      "cell_type": "markdown",
      "source": [
        "**<프로그래머스 정렬 문제>**\n",
        "\n",
        "0 또는 양의 정수가 주어졌을 때, 정수를 이어 붙여 만들 수 있는 가장 큰 수를 알아내 주세요.\n",
        "\n",
        "예를 들어, 주어진 정수가 [6, 10, 2]라면 [6102, 6210, 1062, 1026, 2610, 2106]를 만들 수 있고, 이중 가장 큰 수는 6210입니다.\n",
        "\n",
        "0 또는 양의 정수가 담긴 배열 numbers가 매개변수로 주어질 때, 순서를 재배치하여 만들 수 있는 가장 큰 수를 문자열로 바꾸어 return 하도록 solution 함수를 작성해주세요.\n",
        "\n",
        "제한 사항\n",
        "numbers의 길이는 1 이상 100,000 이하입니다.\n",
        "numbers의 원소는 0 이상 1,000 이하입니다.\n",
        "정답이 너무 클 수 있으니 문자열로 바꾸어 return 합니다.\n",
        "\n",
        "입출력 예\n",
        "\n",
        "numbers\t            return\n",
        "\n",
        "[6, 10, 2]\t         \"6210\"\n",
        "\n",
        "[3, 30, 34, 5, 9]\t   \"9534330\""
      ],
      "metadata": {
        "id": "9OZXb7d9KFSf"
      }
    },
    {
      "cell_type": "code",
      "source": [
        "def solution(numbers):\n",
        "    numbers = list(map(str, numbers))\n",
        "    numbers.sort(key=lambda x: x*3, reverse=True)\n",
        "    return str(int(''.join(numbers)))"
      ],
      "metadata": {
        "id": "5WpJEAyDKZHD"
      },
      "execution_count": null,
      "outputs": []
    }
  ]
}