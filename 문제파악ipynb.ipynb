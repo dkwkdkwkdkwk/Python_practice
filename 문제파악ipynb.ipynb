{
  "nbformat": 4,
  "nbformat_minor": 0,
  "metadata": {
    "colab": {
      "provenance": [],
      "authorship_tag": "ABX9TyMGZSxBo5tjTt8SrdUkXXc5",
      "include_colab_link": true
    },
    "kernelspec": {
      "name": "python3",
      "display_name": "Python 3"
    },
    "language_info": {
      "name": "python"
    }
  },
  "cells": [
    {
      "cell_type": "markdown",
      "metadata": {
        "id": "view-in-github",
        "colab_type": "text"
      },
      "source": [
        "<a href=\"https://colab.research.google.com/github/dkwkdkwkdkwk/Python_practice/blob/main/%EB%AC%B8%EC%A0%9C%ED%8C%8C%EC%95%85ipynb.ipynb\" target=\"_parent\"><img src=\"https://colab.research.google.com/assets/colab-badge.svg\" alt=\"Open In Colab\"/></a>"
      ]
    },
    {
      "cell_type": "markdown",
      "source": [
        "**코딩테스트 문제 접근 5단계 프레임**\n",
        "\n",
        "1단계 :  문제 유형 파악하기\n",
        "\"이건 어떤 유형의 문제일까?\"\n",
        "\n",
        "→ 자주 나오는 유형들:\n",
        "\n",
        "| 대표 키워드                  | 유형              |\n",
        "| ----------------------- | --------------- |\n",
        "| 최단 거리, 최소 칸 수, 가장 빨리 도착 | **BFS**         |\n",
        "| 미로 탈출, 갈 수 있는가?         | **DFS / BFS**   |\n",
        "| 순서대로 정렬, 정렬 조건          | **정렬**          |\n",
        "| 가장 큰 수, 최대한 담기          | **그리디**         |\n",
        "| 여러 개 묶기, 최소 비용          | **우선순위 큐 / 힙**  |\n",
        "| 물건 담기, 최대 점수            | **DP (동적 계획법)** |\n",
        "| 괄호, 스택 구조               | **스택 / 큐**      |\n",
        "| 반복 규칙, 재귀함수             | **재귀 / 백트래킹**   |\n",
        "\n",
        "\n",
        "\n",
        " 2단계 : 입력 조건 파악하기\n",
        "\n",
        "| 입력 범위            | 전략                        |\n",
        "| ---------------- | ------------------------- |\n",
        "| n ≤ 20           | 완전탐색, 브루트포스 OK            |\n",
        "| n ≤ 100          | 이중 반복문 OK                 |\n",
        "| n ≤ 1,000        | O(n log n)까지 OK           |\n",
        "| n ≤ 100,000      | 정렬, 해시, 투포인터              |\n",
        "| n ≤ 1,000,000 이상 | 그리디, 해시, 이분탐색 or 슬라이딩 윈도우 |\n",
        "\n",
        "\n",
        "예: 100 x 100 미로 → BFS 가능\n",
        "\n",
        "3단계 : 입출력 예시를 분석하기\n",
        "\n",
        "\n",
        "\n",
        "\n",
        "\n",
        "> 작은 예시를 손으로 직접 그려보며\n",
        "\"이게 왜 3이야?\", \"어떻게 계산된 거지?\"\n",
        "→ 핵심 로직 추출\n",
        "\n",
        " 4단계.: 자료구조와 알고리즘 결정하기\n",
        "\n",
        "\n",
        "예를 들어:\n",
        "\n",
        "\n",
        "> 최단거리 → BFS + 큐\n",
        "\n",
        "순서대로 꺼내기 → 우선순위 큐\n",
        "\n",
        "중복제거 & 빠른 탐색 → 집합(set), 딕셔너리(dict)\n",
        "\n",
        "문자열 조작 많다 → 슬라이싱, 파싱 함수\n",
        "\n",
        "\n",
        "\n",
        "\n",
        "5단계 : 구현 시작 + 작은 단위 테스트\n",
        "\n",
        "\n",
        "예를 들어\n",
        "\n",
        "\n",
        "1. print()로 중간 값 찍어보기\n",
        "\n",
        "2. input()부터 받고 출력까지만 먼저 확인 → 그다음 로직 붙이기\n",
        "\n",
        "3. 함수화해서 테스트 쉽게 하기\n",
        "\n",
        "\n"
      ],
      "metadata": {
        "id": "Bz0YpxQbzqDN"
      }
    },
    {
      "cell_type": "code",
      "source": [],
      "metadata": {
        "id": "ewmYh7El0mqe"
      },
      "execution_count": null,
      "outputs": []
    }
  ]
}