{
  "nbformat": 4,
  "nbformat_minor": 0,
  "metadata": {
    "colab": {
      "provenance": [],
      "authorship_tag": "ABX9TyOCap4MAm1M3YF42db9o8PG",
      "include_colab_link": true
    },
    "kernelspec": {
      "name": "python3",
      "display_name": "Python 3"
    },
    "language_info": {
      "name": "python"
    }
  },
  "cells": [
    {
      "cell_type": "markdown",
      "metadata": {
        "id": "view-in-github",
        "colab_type": "text"
      },
      "source": [
        "<a href=\"https://colab.research.google.com/github/dkwkdkwkdkwk/Python_practice/blob/main/CodingTest_Day1_2.ipynb\" target=\"_parent\"><img src=\"https://colab.research.google.com/assets/colab-badge.svg\" alt=\"Open In Colab\"/></a>"
      ]
    },
    {
      "cell_type": "markdown",
      "source": [
        "**CH03 그리디**\n",
        "\n",
        "현재 상황에서 지금 당장 좋은 것만 고르는 방법\n",
        "현재 선택이 나중에 미칠 영향에 대해서는 고려하지 않음"
      ],
      "metadata": {
        "id": "eD-MmIf6Wmqh"
      }
    },
    {
      "cell_type": "markdown",
      "source": [
        "예제 1 ) 거스름돈  *\n",
        "\n",
        "당신은 음식점의 계산을 도와주는 점원이다. 카운터에는 거스름돈으로 사용할 500원,100원, 50원, 10원짜리 동전이 무한히 존재한다고 가정한다. 손님에게 거슬러 줘야 할 돈이 N원일 때 거슬러 줘야 할 동전의 최소 개수를 구하라,\n",
        "단, 거슬러 줘야 할 돈 N은 항상 10의 배수이다.\n",
        "\n",
        "N이 1260일 때"
      ],
      "metadata": {
        "id": "cLKzJ5MOXYwQ"
      }
    },
    {
      "cell_type": "code",
      "execution_count": null,
      "metadata": {
        "colab": {
          "base_uri": "https://localhost:8080/"
        },
        "id": "JdmcXnqTWS_r",
        "outputId": "0effd4ba-bc4c-439b-a1ed-56a735870e26"
      },
      "outputs": [
        {
          "output_type": "stream",
          "name": "stdout",
          "text": [
            "6\n"
          ]
        }
      ],
      "source": [
        "n = 1260\n",
        "count = 0\n",
        "\n",
        "coin_types = [500, 100, 50, 10]\n",
        "\n",
        "for coin in coin_types:\n",
        "  count += n // coin\n",
        "  n %= coin\n",
        "\n",
        "print(count)"
      ]
    }
  ]
}